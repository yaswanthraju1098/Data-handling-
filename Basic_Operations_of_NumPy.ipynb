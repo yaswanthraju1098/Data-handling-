{
  "nbformat": 4,
  "nbformat_minor": 0,
  "metadata": {
    "colab": {
      "provenance": []
    },
    "kernelspec": {
      "name": "python3",
      "display_name": "Python 3"
    },
    "language_info": {
      "name": "python"
    }
  },
  "cells": [
    {
      "cell_type": "code",
      "execution_count": 1,
      "metadata": {
        "colab": {
          "base_uri": "https://localhost:8080/"
        },
        "id": "-Po15B9U3lGe",
        "outputId": "138bd886-22d3-4860-8234-0c65bc6c641e"
      },
      "outputs": [
        {
          "output_type": "stream",
          "name": "stdout",
          "text": [
            "1D NumPy Array\n",
            "Shape: (5,)\n",
            "Size: 5\n",
            "Dimension: 1\n",
            "Length: 5\n"
          ]
        }
      ],
      "source": [
        "import numpy as np\n",
        "arr_1d = np.array([1, 2, 3, 4, 5])\n",
        "print(\"1D NumPy Array\")\n",
        "print(\"Shape:\", arr_1d.shape)\n",
        "print(\"Size:\", arr_1d.size)\n",
        "print(\"Dimension:\", arr_1d.ndim)\n",
        "print(\"Length:\", len(arr_1d))"
      ]
    },
    {
      "cell_type": "code",
      "source": [
        "arr_2d = np.array([[1, 2, 3], [4, 5, 6], [7, 8, 9]])\n",
        "print(\"\\n2D NumPy Array\")\n",
        "print(\"Shape:\", arr_2d.shape)\n",
        "print(\"Size:\", arr_2d.size)\n",
        "print(\"Dimension:\", arr_2d.ndim)\n",
        "print(\"Length:\", len(arr_2d))"
      ],
      "metadata": {
        "colab": {
          "base_uri": "https://localhost:8080/"
        },
        "id": "2t--CHR14GZo",
        "outputId": "256e8f32-d465-45d9-fd1b-ef4157590dc1"
      },
      "execution_count": 2,
      "outputs": [
        {
          "output_type": "stream",
          "name": "stdout",
          "text": [
            "\n",
            "2D NumPy Array\n",
            "Shape: (3, 3)\n",
            "Size: 9\n",
            "Dimension: 2\n",
            "Length: 3\n"
          ]
        }
      ]
    },
    {
      "cell_type": "code",
      "source": [
        "arr_3d = np.array([[[1, 2, 3], [4, 5, 6]], [[7, 8, 9], [10, 11, 12]]])\n",
        "print(\"\\n3D NumPy Array\")\n",
        "print(\"Shape:\", arr_3d.shape)\n",
        "print(\"Size:\", arr_3d.size)\n",
        "print(\"Dimension:\", arr_3d.ndim)\n",
        "print(\"Length:\", len(arr_3d))"
      ],
      "metadata": {
        "colab": {
          "base_uri": "https://localhost:8080/"
        },
        "id": "wLvSaGRs4O7a",
        "outputId": "c3b03433-ff40-4967-cc7c-abd5c9f3f310"
      },
      "execution_count": 3,
      "outputs": [
        {
          "output_type": "stream",
          "name": "stdout",
          "text": [
            "\n",
            "3D NumPy Array\n",
            "Shape: (2, 2, 3)\n",
            "Size: 12\n",
            "Dimension: 3\n",
            "Length: 2\n"
          ]
        }
      ]
    },
    {
      "cell_type": "code",
      "source": [
        "import numpy as np\n",
        "arr = np.arange(10)"
      ],
      "metadata": {
        "id": "FSsd-Ldg4rCF"
      },
      "execution_count": 4,
      "outputs": []
    },
    {
      "cell_type": "code",
      "source": [
        "arr = np.random.randint(10, 50, size=(2, 3))"
      ],
      "metadata": {
        "id": "0BIKYRG46CEG"
      },
      "execution_count": 12,
      "outputs": []
    },
    {
      "cell_type": "code",
      "source": [
        "arr = np.random.rand(2, 3)"
      ],
      "metadata": {
        "id": "4aVfA_6F6ObL"
      },
      "execution_count": 6,
      "outputs": []
    },
    {
      "cell_type": "code",
      "source": [
        "arr = np.linspace(0, 10, 100)"
      ],
      "metadata": {
        "id": "wAs382Kq6T5S"
      },
      "execution_count": 7,
      "outputs": []
    },
    {
      "cell_type": "code",
      "source": [
        "arr = np.ones((2, 3), dtype=int)"
      ],
      "metadata": {
        "id": "sDg-JsrW6X5S"
      },
      "execution_count": 8,
      "outputs": []
    },
    {
      "cell_type": "code",
      "source": [
        "arr = np.zeros((2, 3), dtype=int)"
      ],
      "metadata": {
        "id": "e0w3-RG16e4j"
      },
      "execution_count": 9,
      "outputs": []
    },
    {
      "cell_type": "code",
      "source": [
        "arr = np.array([[1, 2, 3],\n",
        "                [4, 5, 6],\n",
        "                [7, 8, 9]])\n",
        "print(np.diag(arr))"
      ],
      "metadata": {
        "colab": {
          "base_uri": "https://localhost:8080/"
        },
        "id": "Z6u-WzlJ6iWD",
        "outputId": "a6144f61-1798-49dc-f3a6-dff68a0b3d37"
      },
      "execution_count": 10,
      "outputs": [
        {
          "output_type": "stream",
          "name": "stdout",
          "text": [
            "[1 5 9]\n"
          ]
        }
      ]
    },
    {
      "cell_type": "code",
      "source": [
        "arr = np.array([1, 2, 3, 4, 5])\n",
        "print(np.sum(arr))"
      ],
      "metadata": {
        "colab": {
          "base_uri": "https://localhost:8080/"
        },
        "id": "3Y-8KIPc6nSD",
        "outputId": "9f80bb2b-ed59-4781-e424-7612508b8865"
      },
      "execution_count": 13,
      "outputs": [
        {
          "output_type": "stream",
          "name": "stdout",
          "text": [
            "15\n"
          ]
        }
      ]
    },
    {
      "cell_type": "code",
      "source": [
        "arr = np.array([1, 2, 3, 4, 5])\n",
        "print(np.min(arr))"
      ],
      "metadata": {
        "colab": {
          "base_uri": "https://localhost:8080/"
        },
        "id": "8UrNuw757IAf",
        "outputId": "464acbdf-3c2d-4cae-bc20-e89b719ef641"
      },
      "execution_count": 14,
      "outputs": [
        {
          "output_type": "stream",
          "name": "stdout",
          "text": [
            "1\n"
          ]
        }
      ]
    },
    {
      "cell_type": "code",
      "source": [
        "arr = np.array([1, 2, 3, 4, 5])\n",
        "print(np.max(arr))"
      ],
      "metadata": {
        "colab": {
          "base_uri": "https://localhost:8080/"
        },
        "id": "-xwQ4R_U7Lar",
        "outputId": "3e85c703-cc29-4e97-a8cd-573f8ac8a5e7"
      },
      "execution_count": 15,
      "outputs": [
        {
          "output_type": "stream",
          "name": "stdout",
          "text": [
            "5\n"
          ]
        }
      ]
    },
    {
      "cell_type": "code",
      "source": [
        "arr = np.array([1,2,3,4,5,6,7,8,9,10])\n",
        "print(np.mean(arr))"
      ],
      "metadata": {
        "colab": {
          "base_uri": "https://localhost:8080/"
        },
        "id": "ClpE2ppu7Tb0",
        "outputId": "360f3975-aa02-485f-dd07-3a447016379e"
      },
      "execution_count": 16,
      "outputs": [
        {
          "output_type": "stream",
          "name": "stdout",
          "text": [
            "5.5\n"
          ]
        }
      ]
    },
    {
      "cell_type": "code",
      "source": [
        "import numpy as np\n",
        "student_marks = np.random.randint(0, 100, 10)\n",
        "fail_criteria = 30\n",
        "no_of_students_passed = np.sum(student_marks >= fail_criteria)\n",
        "failed_marks = student_marks[student_marks < fail_criteria]\n",
        "print(\"Student marks:\")\n",
        "print(student_marks)\n",
        "print(\"Number of students passed: \", no_of_students_passed)\n",
        "print(\"Failed marks:\")\n",
        "print(failed_marks)"
      ],
      "metadata": {
        "colab": {
          "base_uri": "https://localhost:8080/"
        },
        "id": "fI6YVkbu7yC4",
        "outputId": "b9d8e45a-f17f-4dae-d35f-96ba6c10aa06"
      },
      "execution_count": 17,
      "outputs": [
        {
          "output_type": "stream",
          "name": "stdout",
          "text": [
            "Student marks:\n",
            "[24 52 13 87  4 89 51 77  6  7]\n",
            "Number of students passed:  5\n",
            "Failed marks:\n",
            "[24 13  4  6  7]\n"
          ]
        }
      ]
    },
    {
      "cell_type": "code",
      "source": [
        "import numpy as np\n",
        "arr = np.random.randint(1, 51, size=(5, 5))\n",
        "print(arr)"
      ],
      "metadata": {
        "colab": {
          "base_uri": "https://localhost:8080/"
        },
        "id": "ZYr0AhQb-EWL",
        "outputId": "3990eae7-d401-437c-d531-e10e55c62cfa"
      },
      "execution_count": 18,
      "outputs": [
        {
          "output_type": "stream",
          "name": "stdout",
          "text": [
            "[[ 4 12 41 40 19]\n",
            " [45 42 36  4 25]\n",
            " [ 2 48 41 48 28]\n",
            " [44 28 43 20  5]\n",
            " [33 31 10 14 22]]\n"
          ]
        }
      ]
    },
    {
      "cell_type": "code",
      "source": [
        "import numpy as np\n",
        "odd_array = np.arange(-30, 10, 2)\n",
        "print(odd_array)\n",
        "Indices_list = np.where(np.mod(odd_array, 2) != 0)[0]\n",
        "print(\"Indices list Odd elements is : \", Indices_list)"
      ],
      "metadata": {
        "colab": {
          "base_uri": "https://localhost:8080/"
        },
        "id": "GEGeoq4h-V--",
        "outputId": "d12ce52b-ba48-4755-eb70-40c5adcb2b4f"
      },
      "execution_count": 19,
      "outputs": [
        {
          "output_type": "stream",
          "name": "stdout",
          "text": [
            "[-30 -28 -26 -24 -22 -20 -18 -16 -14 -12 -10  -8  -6  -4  -2   0   2   4\n",
            "   6   8]\n",
            "Indices list Odd elements is :  []\n"
          ]
        }
      ]
    }
  ]
}