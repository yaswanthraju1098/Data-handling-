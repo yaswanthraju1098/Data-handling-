{
  "nbformat": 4,
  "nbformat_minor": 0,
  "metadata": {
    "colab": {
      "provenance": [],
      "authorship_tag": "ABX9TyMYSIN1CtKqrRAtEeI7ZRTS",
      "include_colab_link": true
    },
    "kernelspec": {
      "name": "python3",
      "display_name": "Python 3"
    },
    "language_info": {
      "name": "python"
    }
  },
  "cells": [
    {
      "cell_type": "markdown",
      "metadata": {
        "id": "view-in-github",
        "colab_type": "text"
      },
      "source": [
        "<a href=\"https://colab.research.google.com/github/yaswanthraju1098/Data-handling-/blob/main/stop_words.ipynb\" target=\"_parent\"><img src=\"https://colab.research.google.com/assets/colab-badge.svg\" alt=\"Open In Colab\"/></a>"
      ]
    },
    {
      "cell_type": "code",
      "execution_count": 3,
      "metadata": {
        "colab": {
          "base_uri": "https://localhost:8080/"
        },
        "id": "cqBZyO2o7Jsc",
        "outputId": "c28a7415-90bd-4f45-8c00-e82494f59708"
      },
      "outputs": [
        {
          "output_type": "stream",
          "name": "stderr",
          "text": [
            "[nltk_data] Downloading package stopwords to /root/nltk_data...\n",
            "[nltk_data]   Unzipping corpora/stopwords.zip.\n"
          ]
        },
        {
          "output_type": "execute_result",
          "data": {
            "text/plain": [
              "True"
            ]
          },
          "metadata": {},
          "execution_count": 3
        }
      ],
      "source": [
        "import nltk\n",
        "from nltk.corpus import stopwords\n",
        "nltk.download('stopwords')"
      ]
    },
    {
      "cell_type": "code",
      "source": [
        "def remove_stop_words(string):\n",
        "  stop_words = set(stopwords.words('english'))\n",
        "  words = string.split()\n",
        "  filteredwords = [word for word in words if word.lower()not in stop_words]\n",
        "  new_string=''.join(filteredwords)\n",
        "  return new_string\n",
        "\n",
        "input=\"a about above actually after again against all almost also although always am an and any are as at\"\n",
        "result=remove_stop_words(input)\n",
        "print(\"modified string:\",result)"
      ],
      "metadata": {
        "colab": {
          "base_uri": "https://localhost:8080/"
        },
        "id": "9XsZyNkk7Vel",
        "outputId": "e11becb9-5895-4453-b6c3-a8b2d6b8f96d"
      },
      "execution_count": 8,
      "outputs": [
        {
          "output_type": "stream",
          "name": "stdout",
          "text": [
            "modified string: actuallyalmostalsoalthoughalways\n"
          ]
        }
      ]
    },
    {
      "cell_type": "code",
      "source": [
        "input_string=\"This is an example sentence to remove stop words from\"\n",
        "result=remove_stop_words(input_string)\n",
        "print(\"original string:\",input_string)\n",
        "print(\"modified string:\",result)\n"
      ],
      "metadata": {
        "colab": {
          "base_uri": "https://localhost:8080/"
        },
        "id": "WHpQoyB9_LC_",
        "outputId": "6e9ee56d-8a09-4e2e-8a80-5b6300a9e0a5"
      },
      "execution_count": 9,
      "outputs": [
        {
          "output_type": "stream",
          "name": "stdout",
          "text": [
            "original string: This is an example sentence to remove stop words from\n",
            "modified string: examplesentenceremovestopwords\n"
          ]
        }
      ]
    },
    {
      "cell_type": "code",
      "source": [
        "!pip install nltk"
      ],
      "metadata": {
        "colab": {
          "base_uri": "https://localhost:8080/"
        },
        "id": "Uq9NGPQAMxhK",
        "outputId": "7d1b3336-efd0-4a65-d7f1-fe472f7413e2"
      },
      "execution_count": 10,
      "outputs": [
        {
          "output_type": "stream",
          "name": "stdout",
          "text": [
            "Requirement already satisfied: nltk in /usr/local/lib/python3.10/dist-packages (3.8.1)\n",
            "Requirement already satisfied: click in /usr/local/lib/python3.10/dist-packages (from nltk) (8.1.7)\n",
            "Requirement already satisfied: joblib in /usr/local/lib/python3.10/dist-packages (from nltk) (1.4.0)\n",
            "Requirement already satisfied: regex>=2021.8.3 in /usr/local/lib/python3.10/dist-packages (from nltk) (2023.12.25)\n",
            "Requirement already satisfied: tqdm in /usr/local/lib/python3.10/dist-packages (from nltk) (4.66.2)\n"
          ]
        }
      ]
    },
    {
      "cell_type": "code",
      "source": [
        "import nltk\n",
        "nltk.download('punkt')"
      ],
      "metadata": {
        "colab": {
          "base_uri": "https://localhost:8080/"
        },
        "id": "E7uVRz5aM3mL",
        "outputId": "7814d130-7ebd-493e-90ef-2642a8ed1d4a"
      },
      "execution_count": 11,
      "outputs": [
        {
          "output_type": "stream",
          "name": "stderr",
          "text": [
            "[nltk_data] Downloading package punkt to /root/nltk_data...\n",
            "[nltk_data]   Unzipping tokenizers/punkt.zip.\n"
          ]
        },
        {
          "output_type": "execute_result",
          "data": {
            "text/plain": [
              "True"
            ]
          },
          "metadata": {},
          "execution_count": 11
        }
      ]
    },
    {
      "cell_type": "code",
      "source": [
        "import matplotlib.pyplot as plt\n",
        "from collections import Counter\n",
        "from nltk.corpus import stopwords\n",
        "from nltk.tokenize import word_tokenize"
      ],
      "metadata": {
        "id": "S2HnAybfM7MD"
      },
      "execution_count": 12,
      "outputs": []
    },
    {
      "cell_type": "code",
      "source": [
        "def count_stopwords(text):\n",
        "    stop_words = set(stopwords.words('english'))\n",
        "    words = word_tokenize(text.lower())\n",
        "    word_count = Counter(words)\n",
        "    stopwords_count = {word: count for word, count in word_count.items() if word in stop_words}\n",
        "    return stopwords_count"
      ],
      "metadata": {
        "id": "fHXzxe2ZM98u"
      },
      "execution_count": 13,
      "outputs": []
    },
    {
      "cell_type": "code",
      "source": [
        "def remove_stop_words(text):\n",
        "  stop_words=set(stopwords.words('english'))\n",
        "  words=text.split()\n",
        "  filtered_words=[word for word in words if word.lower() not in stop_words]\n",
        "  new_string=''.join(filtered_words)\n",
        "  return new_string\n",
        ""
      ],
      "metadata": {
        "id": "0S2g0yTENAS6"
      },
      "execution_count": 14,
      "outputs": []
    },
    {
      "cell_type": "code",
      "source": [
        "def plot_bar_chart(data):\n",
        "    words = list(data.keys())\n",
        "    counts = list(data.values())\n",
        "    plt.bar(words, counts)\n",
        "    plt.xlabel('Stopwords')\n",
        "    plt.ylabel('Count')\n",
        "    plt.title('Stopwords Count')\n",
        "    plt.xticks(rotation=45, ha='right')\n",
        "    plt.tight_layout()\n",
        "    plt.show()"
      ],
      "metadata": {
        "id": "WN45DbjUNCj7"
      },
      "execution_count": 15,
      "outputs": []
    },
    {
      "cell_type": "code",
      "source": [
        "\n",
        "if __name__ == \"__main__\":\n",
        "    text = (\"Stop words are a set of commonly used words in a language\")\n",
        "    remove_stop_words(text)\n",
        "    stopwords_count = count_stopwords(text)\n",
        "    print(\"Stopwords count:\", stopwords_count)\n",
        "    plot_bar_chart(stopwords_count)"
      ],
      "metadata": {
        "colab": {
          "base_uri": "https://localhost:8080/",
          "height": 504
        },
        "id": "KZJAjoK5NFSr",
        "outputId": "c240e867-5fe3-40b2-fd5b-0c1a70ca7ce5"
      },
      "execution_count": 16,
      "outputs": [
        {
          "output_type": "stream",
          "name": "stdout",
          "text": [
            "Stopwords count: {'are': 1, 'a': 2, 'of': 1, 'in': 1}\n"
          ]
        },
        {
          "output_type": "display_data",
          "data": {
            "text/plain": [
              "<Figure size 640x480 with 1 Axes>"
            ],
            "image/png": "[encoded data removed]"
          },
          "metadata": {}
        }
      ]
    },
    {
      "cell_type": "code",
      "source": [],
      "metadata": {
        "id": "koNfd_IiNI1q"
      },
      "execution_count": null,
      "outputs": []
    }
  ]
}